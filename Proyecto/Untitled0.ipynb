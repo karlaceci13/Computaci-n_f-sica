{
  "nbformat": 4,
  "nbformat_minor": 0,
  "metadata": {
    "colab": {
      "provenance": []
    },
    "kernelspec": {
      "name": "python3",
      "display_name": "Python 3"
    },
    "language_info": {
      "name": "python"
    }
  },
  "cells": [
    {
      "cell_type": "code",
      "source": [
        "import random"
      ],
      "metadata": {
        "id": "kbw26XBSmIlQ"
      },
      "execution_count": null,
      "outputs": []
    },
    {
      "cell_type": "code",
      "source": [],
      "metadata": {
        "id": "FLZgSruD5H6B"
      },
      "execution_count": null,
      "outputs": []
    },
    {
      "cell_type": "code",
      "execution_count": null,
      "metadata": {
        "id": "mECFDB0slKT-"
      },
      "outputs": [],
      "source": [
        "def adivina_el_número(x):\n",
        "\n",
        "  print(\"¡Bienvenido al juego!\")\n",
        "  print(\"el objetivo es adivinar el número generado\")\n",
        "\n",
        "  número_aleatorio = random.randint(1, x) #definimos un intervalo de número enteros\n",
        "\n",
        "  predicción = 0 #Empezamos con un valor no definido en el intervalo para que no haya la posibilidad de que el juego acabe sin ninguna interacción\n",
        "  while predicción != número_aleatorio: #el ciclo while lo usamos porque no sabemos que numero de veces vamos a requerir el mismo ciclo\n",
        "    predicción = int(input(f\"Adivina un número entre 1 y {x}: \")) #input nos genera una cadena de caracteres, por lo que tenemos que poner int que lo hace entero por tanto como un solo número\n",
        "    if predicción < número_aleatorio: #establecemos condiciones al ciclo\n",
        "      print(\"fallaste, intenta con un número más grande\")\n",
        "    elif predicción >número_aleatorio:\n",
        "      print(\"fallaste, intenta con un número más pequeño\")\n",
        "  print(f\"¡Muy bien! haz hallado el numero {número_aleatorio}. Felicidades\")"
      ]
    },
    {
      "cell_type": "code",
      "source": [],
      "metadata": {
        "id": "p6Fx8d_SrDma"
      },
      "execution_count": null,
      "outputs": []
    },
    {
      "cell_type": "code",
      "source": [],
      "metadata": {
        "id": "OAjQzyguv0pc"
      },
      "execution_count": null,
      "outputs": []
    },
    {
      "cell_type": "code",
      "source": [],
      "metadata": {
        "id": "EJL6-x29mI9P"
      },
      "execution_count": null,
      "outputs": []
    },
    {
      "cell_type": "code",
      "source": [
        "adivina_el_número(1000000)"
      ],
      "metadata": {
        "id": "4OWzAp0w5MbV"
      },
      "execution_count": null,
      "outputs": []
    },
    {
      "cell_type": "code",
      "source": [
        "adivina_el_número(100) #definimos el tamaño del intervalo, como consecuencía, la dificultad."
      ],
      "metadata": {
        "colab": {
          "base_uri": "https://localhost:8080/"
        },
        "id": "fHRjmqBEunBi",
        "outputId": "b9365f12-2646-4088-acbd-3db14669f5b3"
      },
      "execution_count": null,
      "outputs": [
        {
          "output_type": "stream",
          "name": "stdout",
          "text": [
            "¡Bienvenido al juego!\n",
            "el objetivo es adivinar el número generado\n",
            "Adivina un número entre 1 y 100: 5\n",
            "fallaste, intenta con un número más grande\n",
            "Adivina un número entre 1 y 100: 50\n",
            "fallaste, intenta con un número más pequeño\n",
            "Adivina un número entre 1 y 100: 20\n",
            "fallaste, intenta con un número más grande\n",
            "Adivina un número entre 1 y 100: 30\n",
            "fallaste, intenta con un número más grande\n",
            "Adivina un número entre 1 y 100: 40\n",
            "fallaste, intenta con un número más pequeño\n",
            "Adivina un número entre 1 y 100: 37\n",
            "fallaste, intenta con un número más pequeño\n",
            "Adivina un número entre 1 y 100: 35\n",
            "fallaste, intenta con un número más pequeño\n",
            "Adivina un número entre 1 y 100: 32\n",
            "fallaste, intenta con un número más grande\n",
            "Adivina un número entre 1 y 100: 34\n",
            "fallaste, intenta con un número más pequeño\n",
            "Adivina un número entre 1 y 100: 33\n",
            "¡Muy bien! haz hallado el numero 33. Felicidades\n"
          ]
        }
      ]
    }
  ]
}